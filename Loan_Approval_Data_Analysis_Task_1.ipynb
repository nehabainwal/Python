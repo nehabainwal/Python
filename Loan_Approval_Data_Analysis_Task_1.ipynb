{
 "cells": [
  {
   "cell_type": "markdown",
   "metadata": {},
   "source": [
    "### Task 1- Data Cleaning"
   ]
  },
  {
   "cell_type": "code",
   "execution_count": 1,
   "metadata": {},
   "outputs": [],
   "source": [
    "import pandas as pd\n",
    "import numpy as np\n",
    "import seaborn as sns\n",
    "import matplotlib.pyplot as plt\n",
    "print(\"Whatever\")"
   ]
  },
  {
   "cell_type": "code",
   "execution_count": 2,
   "metadata": {},
   "outputs": [],
   "source": [
    "Loan = pd.read_csv('Loan_details.csv')\n",
    "Employment = pd.read_csv('Employment_details.csv')\n",
    "Personal= pd.read_csv('Personal_details.csv')"
   ]
  },
  {
   "cell_type": "code",
   "execution_count": 3,
   "metadata": {},
   "outputs": [],
   "source": [
    "#Connect different data sources\n",
    "\n",
    "df = pd.merge(Loan, Employment, on= 'Id')\n",
    "df = pd.merge(df, Personal, on= 'Id')"
   ]
  },
  {
   "cell_type": "code",
   "execution_count": 4,
   "metadata": {
    "scrolled": true
   },
   "outputs": [
    {
     "data": {
      "text/html": [
       "<div>\n",
       "<style scoped>\n",
       "    .dataframe tbody tr th:only-of-type {\n",
       "        vertical-align: middle;\n",
       "    }\n",
       "\n",
       "    .dataframe tbody tr th {\n",
       "        vertical-align: top;\n",
       "    }\n",
       "\n",
       "    .dataframe thead th {\n",
       "        text-align: right;\n",
       "    }\n",
       "</style>\n",
       "<table border=\"1\" class=\"dataframe\">\n",
       "  <thead>\n",
       "    <tr style=\"text-align: right;\">\n",
       "      <th></th>\n",
       "      <th>Id</th>\n",
       "      <th>LoanAmount applied for (in thoudands)</th>\n",
       "      <th>Loan_Amount_Duration</th>\n",
       "      <th>Credit_History</th>\n",
       "      <th>Property_Area</th>\n",
       "      <th>Loan_Status</th>\n",
       "      <th>Self_Employed</th>\n",
       "      <th>Income of applicant</th>\n",
       "      <th>Income of coapplicant</th>\n",
       "      <th>Gender</th>\n",
       "      <th>Marital Status</th>\n",
       "      <th>Family members</th>\n",
       "      <th>Status of education</th>\n",
       "    </tr>\n",
       "  </thead>\n",
       "  <tbody>\n",
       "    <tr>\n",
       "      <th>0</th>\n",
       "      <td>31453</td>\n",
       "      <td>400.0</td>\n",
       "      <td>360.0</td>\n",
       "      <td>1.0</td>\n",
       "      <td>Semiurban</td>\n",
       "      <td>Y</td>\n",
       "      <td>No</td>\n",
       "      <td>3783</td>\n",
       "      <td>3205</td>\n",
       "      <td>Male</td>\n",
       "      <td>Yes</td>\n",
       "      <td>NaN</td>\n",
       "      <td>Graduate</td>\n",
       "    </tr>\n",
       "    <tr>\n",
       "      <th>1</th>\n",
       "      <td>21375</td>\n",
       "      <td>438.0</td>\n",
       "      <td>360.0</td>\n",
       "      <td>1.0</td>\n",
       "      <td>Semiurban</td>\n",
       "      <td>Y</td>\n",
       "      <td>NaN</td>\n",
       "      <td>6833</td>\n",
       "      <td>3423</td>\n",
       "      <td>Female</td>\n",
       "      <td>No</td>\n",
       "      <td>0</td>\n",
       "      <td>Not Graduate</td>\n",
       "    </tr>\n",
       "    <tr>\n",
       "      <th>2</th>\n",
       "      <td>27992</td>\n",
       "      <td>214.0</td>\n",
       "      <td>360.0</td>\n",
       "      <td>1.0</td>\n",
       "      <td>Urban</td>\n",
       "      <td>Y</td>\n",
       "      <td>NaN</td>\n",
       "      <td>3765</td>\n",
       "      <td>3655</td>\n",
       "      <td>Male</td>\n",
       "      <td>Yes</td>\n",
       "      <td>0</td>\n",
       "      <td>Graduate</td>\n",
       "    </tr>\n",
       "    <tr>\n",
       "      <th>3</th>\n",
       "      <td>3326</td>\n",
       "      <td>128.0</td>\n",
       "      <td>360.0</td>\n",
       "      <td>1.0</td>\n",
       "      <td>Urban</td>\n",
       "      <td>Y</td>\n",
       "      <td>No</td>\n",
       "      <td>2474</td>\n",
       "      <td>2584</td>\n",
       "      <td>Male</td>\n",
       "      <td>No</td>\n",
       "      <td>0</td>\n",
       "      <td>Not Graduate</td>\n",
       "    </tr>\n",
       "    <tr>\n",
       "      <th>4</th>\n",
       "      <td>22227</td>\n",
       "      <td>116.0</td>\n",
       "      <td>84.0</td>\n",
       "      <td>0.0</td>\n",
       "      <td>Urban</td>\n",
       "      <td>N</td>\n",
       "      <td>No</td>\n",
       "      <td>3000</td>\n",
       "      <td>0</td>\n",
       "      <td>Male</td>\n",
       "      <td>Yes</td>\n",
       "      <td>2</td>\n",
       "      <td>Graduate</td>\n",
       "    </tr>\n",
       "  </tbody>\n",
       "</table>\n",
       "</div>"
      ],
      "text/plain": [
       "      Id  LoanAmount applied for (in thoudands)  Loan_Amount_Duration  \\\n",
       "0  31453                                  400.0                 360.0   \n",
       "1  21375                                  438.0                 360.0   \n",
       "2  27992                                  214.0                 360.0   \n",
       "3   3326                                  128.0                 360.0   \n",
       "4  22227                                  116.0                  84.0   \n",
       "\n",
       "   Credit_History Property_Area Loan_Status Self_Employed  \\\n",
       "0             1.0     Semiurban           Y            No   \n",
       "1             1.0     Semiurban           Y           NaN   \n",
       "2             1.0         Urban           Y           NaN   \n",
       "3             1.0         Urban           Y            No   \n",
       "4             0.0         Urban           N            No   \n",
       "\n",
       "   Income of applicant  Income of coapplicant  Gender Marital Status  \\\n",
       "0                 3783                   3205    Male            Yes   \n",
       "1                 6833                   3423  Female             No   \n",
       "2                 3765                   3655    Male            Yes   \n",
       "3                 2474                   2584    Male             No   \n",
       "4                 3000                      0    Male            Yes   \n",
       "\n",
       "  Family members Status of education  \n",
       "0            NaN            Graduate  \n",
       "1              0        Not Graduate  \n",
       "2              0            Graduate  \n",
       "3              0        Not Graduate  \n",
       "4              2            Graduate  "
      ]
     },
     "execution_count": 4,
     "metadata": {},
     "output_type": "execute_result"
    }
   ],
   "source": [
    "df.head()"
   ]
  },
  {
   "cell_type": "code",
   "execution_count": 5,
   "metadata": {},
   "outputs": [
    {
     "data": {
      "text/html": [
       "<div>\n",
       "<style scoped>\n",
       "    .dataframe tbody tr th:only-of-type {\n",
       "        vertical-align: middle;\n",
       "    }\n",
       "\n",
       "    .dataframe tbody tr th {\n",
       "        vertical-align: top;\n",
       "    }\n",
       "\n",
       "    .dataframe thead th {\n",
       "        text-align: right;\n",
       "    }\n",
       "</style>\n",
       "<table border=\"1\" class=\"dataframe\">\n",
       "  <thead>\n",
       "    <tr style=\"text-align: right;\">\n",
       "      <th></th>\n",
       "      <th>Id</th>\n",
       "      <th>LoanAmount applied for (in thoudands)</th>\n",
       "      <th>Loan_Amount_Duration</th>\n",
       "      <th>Credit_History</th>\n",
       "      <th>Income of applicant</th>\n",
       "      <th>Income of coapplicant</th>\n",
       "    </tr>\n",
       "  </thead>\n",
       "  <tbody>\n",
       "    <tr>\n",
       "      <th>count</th>\n",
       "      <td>47856.000000</td>\n",
       "      <td>45660.000000</td>\n",
       "      <td>46367.000000</td>\n",
       "      <td>44409.000000</td>\n",
       "      <td>47856.000000</td>\n",
       "      <td>47856.000000</td>\n",
       "    </tr>\n",
       "    <tr>\n",
       "      <th>mean</th>\n",
       "      <td>23928.500000</td>\n",
       "      <td>135.906789</td>\n",
       "      <td>343.222658</td>\n",
       "      <td>0.829539</td>\n",
       "      <td>4854.436748</td>\n",
       "      <td>1664.988486</td>\n",
       "    </tr>\n",
       "    <tr>\n",
       "      <th>std</th>\n",
       "      <td>13814.981578</td>\n",
       "      <td>70.156703</td>\n",
       "      <td>61.561339</td>\n",
       "      <td>0.376041</td>\n",
       "      <td>3900.875350</td>\n",
       "      <td>1910.643113</td>\n",
       "    </tr>\n",
       "    <tr>\n",
       "      <th>min</th>\n",
       "      <td>1.000000</td>\n",
       "      <td>30.000000</td>\n",
       "      <td>84.000000</td>\n",
       "      <td>0.000000</td>\n",
       "      <td>1064.000000</td>\n",
       "      <td>0.000000</td>\n",
       "    </tr>\n",
       "    <tr>\n",
       "      <th>25%</th>\n",
       "      <td>11964.750000</td>\n",
       "      <td>100.000000</td>\n",
       "      <td>360.000000</td>\n",
       "      <td>1.000000</td>\n",
       "      <td>2666.000000</td>\n",
       "      <td>0.000000</td>\n",
       "    </tr>\n",
       "    <tr>\n",
       "      <th>50%</th>\n",
       "      <td>23928.500000</td>\n",
       "      <td>125.000000</td>\n",
       "      <td>360.000000</td>\n",
       "      <td>1.000000</td>\n",
       "      <td>3660.000000</td>\n",
       "      <td>1387.000000</td>\n",
       "    </tr>\n",
       "    <tr>\n",
       "      <th>75%</th>\n",
       "      <td>35892.250000</td>\n",
       "      <td>160.000000</td>\n",
       "      <td>360.000000</td>\n",
       "      <td>1.000000</td>\n",
       "      <td>5566.000000</td>\n",
       "      <td>2583.000000</td>\n",
       "    </tr>\n",
       "    <tr>\n",
       "      <th>max</th>\n",
       "      <td>47856.000000</td>\n",
       "      <td>481.000000</td>\n",
       "      <td>480.000000</td>\n",
       "      <td>1.000000</td>\n",
       "      <td>25515.000000</td>\n",
       "      <td>8610.000000</td>\n",
       "    </tr>\n",
       "  </tbody>\n",
       "</table>\n",
       "</div>"
      ],
      "text/plain": [
       "                 Id  LoanAmount applied for (in thoudands)  \\\n",
       "count  47856.000000                           45660.000000   \n",
       "mean   23928.500000                             135.906789   \n",
       "std    13814.981578                              70.156703   \n",
       "min        1.000000                              30.000000   \n",
       "25%    11964.750000                             100.000000   \n",
       "50%    23928.500000                             125.000000   \n",
       "75%    35892.250000                             160.000000   \n",
       "max    47856.000000                             481.000000   \n",
       "\n",
       "       Loan_Amount_Duration  Credit_History  Income of applicant  \\\n",
       "count          46367.000000    44409.000000         47856.000000   \n",
       "mean             343.222658        0.829539          4854.436748   \n",
       "std               61.561339        0.376041          3900.875350   \n",
       "min               84.000000        0.000000          1064.000000   \n",
       "25%              360.000000        1.000000          2666.000000   \n",
       "50%              360.000000        1.000000          3660.000000   \n",
       "75%              360.000000        1.000000          5566.000000   \n",
       "max              480.000000        1.000000         25515.000000   \n",
       "\n",
       "       Income of coapplicant  \n",
       "count           47856.000000  \n",
       "mean             1664.988486  \n",
       "std              1910.643113  \n",
       "min                 0.000000  \n",
       "25%                 0.000000  \n",
       "50%              1387.000000  \n",
       "75%              2583.000000  \n",
       "max              8610.000000  "
      ]
     },
     "execution_count": 5,
     "metadata": {},
     "output_type": "execute_result"
    }
   ],
   "source": [
    "df.describe()"
   ]
  },
  {
   "cell_type": "code",
   "execution_count": 6,
   "metadata": {
    "scrolled": true
   },
   "outputs": [
    {
     "name": "stdout",
     "output_type": "stream",
     "text": [
      "<class 'pandas.core.frame.DataFrame'>\n",
      "Int64Index: 47856 entries, 0 to 47855\n",
      "Data columns (total 13 columns):\n",
      " #   Column                                 Non-Null Count  Dtype  \n",
      "---  ------                                 --------------  -----  \n",
      " 0   Id                                     47856 non-null  int64  \n",
      " 1   LoanAmount applied for (in thoudands)  45660 non-null  float64\n",
      " 2   Loan_Amount_Duration                   46367 non-null  float64\n",
      " 3   Credit_History                         44409 non-null  float64\n",
      " 4   Property_Area                          47856 non-null  object \n",
      " 5   Loan_Status                            47856 non-null  object \n",
      " 6   Self_Employed                          45311 non-null  object \n",
      " 7   Income of applicant                    47856 non-null  int64  \n",
      " 8   Income of coapplicant                  47856 non-null  int64  \n",
      " 9   Gender                                 46676 non-null  object \n",
      " 10  Marital Status                         47856 non-null  object \n",
      " 11  Family members                         46615 non-null  object \n",
      " 12  Status of education                    47856 non-null  object \n",
      "dtypes: float64(3), int64(3), object(7)\n",
      "memory usage: 5.1+ MB\n"
     ]
    }
   ],
   "source": [
    "df.info()"
   ]
  },
  {
   "cell_type": "code",
   "execution_count": 7,
   "metadata": {},
   "outputs": [
    {
     "data": {
      "text/plain": [
       "dtype('float64')"
      ]
     },
     "execution_count": 7,
     "metadata": {},
     "output_type": "execute_result"
    }
   ],
   "source": [
    "# Changing Family members column to from object to float\n",
    "df['Family members'] = pd.to_numeric(df['Family members'], errors= 'coerce')\n",
    "df.dtypes['Family members']"
   ]
  },
  {
   "cell_type": "code",
   "execution_count": 8,
   "metadata": {},
   "outputs": [
    {
     "data": {
      "text/plain": [
       "Id                                         int64\n",
       "LoanAmount applied for (in thoudands)    float64\n",
       "Loan_Amount_Duration                     float64\n",
       "Credit_History                           float64\n",
       "Property_Area                             object\n",
       "Loan_Status                               object\n",
       "Self_Employed                             object\n",
       "Income of applicant                        int64\n",
       "Income of coapplicant                      int64\n",
       "Gender                                    object\n",
       "Marital Status                            object\n",
       "Family members                           float64\n",
       "Status of education                       object\n",
       "dtype: object"
      ]
     },
     "execution_count": 8,
     "metadata": {},
     "output_type": "execute_result"
    }
   ],
   "source": [
    "df.dtypes"
   ]
  },
  {
   "cell_type": "code",
   "execution_count": 9,
   "metadata": {},
   "outputs": [
    {
     "data": {
      "text/plain": [
       "Id                                          0\n",
       "LoanAmount applied for (in thoudands)    2196\n",
       "Loan_Amount_Duration                     1489\n",
       "Credit_History                           3447\n",
       "Property_Area                               0\n",
       "Loan_Status                                 0\n",
       "Self_Employed                            2545\n",
       "Income of applicant                         0\n",
       "Income of coapplicant                       0\n",
       "Gender                                   1180\n",
       "Marital Status                              0\n",
       "Family members                           4890\n",
       "Status of education                         0\n",
       "dtype: int64"
      ]
     },
     "execution_count": 9,
     "metadata": {},
     "output_type": "execute_result"
    }
   ],
   "source": [
    "#Check if missing values and outliers are there\n",
    "df.isnull().sum()"
   ]
  },
  {
   "cell_type": "markdown",
   "metadata": {},
   "source": [
    "#### Finding outliers in Numerical variable"
   ]
  },
  {
   "cell_type": "code",
   "execution_count": 10,
   "metadata": {
    "scrolled": true
   },
   "outputs": [
    {
     "name": "stdout",
     "output_type": "stream",
     "text": [
      "Series([], Name: LoanAmount applied for (in thoudands), dtype: float64)\n",
      "Series([], Name: Loan_Amount_Duration, dtype: float64)\n",
      "Series([], Name: Family members, dtype: float64)\n"
     ]
    }
   ],
   "source": [
    "#checking the outlier with the Z-score\n",
    "from scipy import stats\n",
    "\n",
    "z_scores = stats.zscore(df['LoanAmount applied for (in thoudands)'])\n",
    "threshold= 3\n",
    "outliers = df['LoanAmount applied for (in thoudands)'][abs(z_scores)> threshold]\n",
    "print(outliers)\n",
    "\n",
    "z_scores = stats.zscore(df['Loan_Amount_Duration'])\n",
    "threshold= 3\n",
    "outliers = df['Loan_Amount_Duration'][abs(z_scores)> threshold]\n",
    "print(outliers)\n",
    "\n",
    "z_scores = stats.zscore(df['Family members'])\n",
    "threshold= 3\n",
    "outliers = df['Family members'][abs(z_scores)> threshold]\n",
    "print(outliers)"
   ]
  },
  {
   "cell_type": "code",
   "execution_count": 11,
   "metadata": {},
   "outputs": [
    {
     "data": {
      "text/plain": [
       "<AxesSubplot:xlabel='Family members'>"
      ]
     },
     "execution_count": 11,
     "metadata": {},
     "output_type": "execute_result"
    },
    {
     "data": {
      "image/png": "[encoded data removed]",
      "text/plain": [
       "<Figure size 1400x1500 with 3 Axes>"
      ]
     },
     "metadata": {},
     "output_type": "display_data"
    }
   ],
   "source": [
    "#For finding the outliers in numeric column using Matplotlib\n",
    "plt.figure(figsize=(14,15))\n",
    "sns.set_style(style='whitegrid')\n",
    "\n",
    "    # Plot 1 \n",
    "plt.subplot(4,3,1)\n",
    "sns.boxplot(x='LoanAmount applied for (in thoudands)',data=df)\n",
    "\n",
    "    # Plot 2\n",
    "plt.subplot(4,3,2)\n",
    "sns.boxplot(x='Loan_Amount_Duration',data=df)\n",
    "\n",
    "    # Plot 3 \n",
    "plt.subplot(4,3,3)\n",
    "sns.boxplot(x='Family members',data=df)\n"
   ]
  },
  {
   "cell_type": "markdown",
   "metadata": {},
   "source": [
    "#### Imputing missing values in Numerical variable"
   ]
  },
  {
   "cell_type": "raw",
   "metadata": {},
   "source": [
    "#Since there the column 'Loan_Amount_Duration' has large spread for duration & 'Family members' has no outliers, hence dropping the null values\n",
    "\n",
    "# and for column 'LoanAmount applied for (in thoudands)' has significant outliers, hence will be imputing the null with mean."
   ]
  },
  {
   "cell_type": "code",
   "execution_count": 12,
   "metadata": {},
   "outputs": [],
   "source": [
    "df.dropna(subset=['Loan_Amount_Duration', 'Family members'], inplace= True)"
   ]
  },
  {
   "cell_type": "code",
   "execution_count": 13,
   "metadata": {},
   "outputs": [],
   "source": [
    "df['LoanAmount applied for (in thoudands)'].fillna(df['LoanAmount applied for (in thoudands)'].mean(), inplace=True)"
   ]
  },
  {
   "cell_type": "code",
   "execution_count": 14,
   "metadata": {
    "scrolled": true
   },
   "outputs": [
    {
     "data": {
      "text/plain": [
       "Id                                          0\n",
       "LoanAmount applied for (in thoudands)       0\n",
       "Loan_Amount_Duration                        0\n",
       "Credit_History                           2868\n",
       "Property_Area                               0\n",
       "Loan_Status                                 0\n",
       "Self_Employed                            2036\n",
       "Income of applicant                         0\n",
       "Income of coapplicant                       0\n",
       "Gender                                    983\n",
       "Marital Status                              0\n",
       "Family members                              0\n",
       "Status of education                         0\n",
       "dtype: int64"
      ]
     },
     "execution_count": 14,
     "metadata": {},
     "output_type": "execute_result"
    }
   ],
   "source": [
    "df.isnull().sum()"
   ]
  },
  {
   "cell_type": "markdown",
   "metadata": {},
   "source": [
    "#### Finding outliers in categorical variable"
   ]
  },
  {
   "cell_type": "code",
   "execution_count": 15,
   "metadata": {},
   "outputs": [
    {
     "data": {
      "text/plain": [
       "1.0    32463\n",
       "0.0     6409\n",
       "Name: Credit_History, dtype: int64"
      ]
     },
     "execution_count": 15,
     "metadata": {},
     "output_type": "execute_result"
    }
   ],
   "source": [
    "df['Credit_History'].value_counts()"
   ]
  },
  {
   "cell_type": "code",
   "execution_count": 16,
   "metadata": {},
   "outputs": [
    {
     "data": {
      "text/plain": [
       "No     34980\n",
       "Yes     4724\n",
       "Name: Self_Employed, dtype: int64"
      ]
     },
     "execution_count": 16,
     "metadata": {},
     "output_type": "execute_result"
    }
   ],
   "source": [
    "df['Self_Employed'].value_counts()"
   ]
  },
  {
   "cell_type": "code",
   "execution_count": 17,
   "metadata": {},
   "outputs": [
    {
     "data": {
      "text/plain": [
       "Male      33735\n",
       "Female     7022\n",
       "Name: Gender, dtype: int64"
      ]
     },
     "execution_count": 17,
     "metadata": {},
     "output_type": "execute_result"
    }
   ],
   "source": [
    "df['Gender'].value_counts()"
   ]
  },
  {
   "cell_type": "raw",
   "metadata": {},
   "source": [
    "#Since these columns are categorical, hence imputing the null with mode."
   ]
  },
  {
   "cell_type": "code",
   "execution_count": 18,
   "metadata": {},
   "outputs": [],
   "source": [
    "df['Self_Employed'].fillna('No', inplace = True)\n",
    "df['Gender'].fillna('Male', inplace = True)\n",
    "df['Credit_History'].fillna('1.0', inplace = True)"
   ]
  },
  {
   "cell_type": "code",
   "execution_count": 19,
   "metadata": {},
   "outputs": [
    {
     "data": {
      "text/plain": [
       "Id                                       0\n",
       "LoanAmount applied for (in thoudands)    0\n",
       "Loan_Amount_Duration                     0\n",
       "Credit_History                           0\n",
       "Property_Area                            0\n",
       "Loan_Status                              0\n",
       "Self_Employed                            0\n",
       "Income of applicant                      0\n",
       "Income of coapplicant                    0\n",
       "Gender                                   0\n",
       "Marital Status                           0\n",
       "Family members                           0\n",
       "Status of education                      0\n",
       "dtype: int64"
      ]
     },
     "execution_count": 19,
     "metadata": {},
     "output_type": "execute_result"
    }
   ],
   "source": [
    "df.isnull().sum()"
   ]
  },
  {
   "cell_type": "code",
   "execution_count": 20,
   "metadata": {},
   "outputs": [
    {
     "data": {
      "text/plain": [
       "1        False\n",
       "2        False\n",
       "3        False\n",
       "4        False\n",
       "5        False\n",
       "         ...  \n",
       "47849    False\n",
       "47850    False\n",
       "47852    False\n",
       "47853    False\n",
       "47854    False\n",
       "Length: 41740, dtype: bool"
      ]
     },
     "execution_count": 20,
     "metadata": {},
     "output_type": "execute_result"
    }
   ],
   "source": [
    "df.duplicated()"
   ]
  },
  {
   "cell_type": "markdown",
   "metadata": {},
   "source": [
    "#### Other Queries"
   ]
  },
  {
   "cell_type": "raw",
   "metadata": {},
   "source": [
    "# Perform data normalization or standardization if required.\n",
    "-- Since data appears as per the requirment, no need of normalization or standardization.\n",
    "\n",
    "# Remove duplicate records if present.\n",
    "-- Since there are none, no need of same.\n",
    "\n",
    "# Remove irrelevant or unnecessary columns.\n",
    "-- Since there are none, no need of same.\n",
    "\n",
    "# Handle categorical variables by encoding or creating dummy variables.\n",
    "-- Since we already handled the data, no need of same.\n",
    "\n",
    "# Address any inconsistencies or errors in data entry.\n",
    "-- Columns name can be more appropriate e.g., 'LoanAmount applied for (in thoudands)'. Spelling errors are also there.\n",
    "\n",
    "# Resolve any formatting issues in data.\n",
    "-- Formatting issue has been handled in 'Family members' cloumn.\n",
    "\n",
    "# Perform feature scaling if needed.\n",
    "--Does not appear if required, hence dropping."
   ]
  },
  {
   "cell_type": "code",
   "execution_count": null,
   "metadata": {},
   "outputs": [],
   "source": []
  },
  {
   "cell_type": "code",
   "execution_count": null,
   "metadata": {},
   "outputs": [],
   "source": []
  },
  {
   "cell_type": "code",
   "execution_count": null,
   "metadata": {},
   "outputs": [],
   "source": []
  }
 ],
 "metadata": {
  "kernelspec": {
   "display_name": "Python 3 (ipykernel)",
   "language": "python",
   "name": "python3"
  },
  "language_info": {
   "codemirror_mode": {
    "name": "ipython",
    "version": 3
   },
   "file_extension": ".py",
   "mimetype": "text/x-python",
   "name": "python",
   "nbconvert_exporter": "python",
   "pygments_lexer": "ipython3",
   "version": "3.9.13"
  }
 },
 "nbformat": 4,
 "nbformat_minor": 2
}
